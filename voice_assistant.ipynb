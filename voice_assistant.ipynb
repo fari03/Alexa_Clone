{
 "cells": [
  {
   "cell_type": "code",
   "execution_count": 1,
   "id": "067a89d4",
   "metadata": {},
   "outputs": [
    {
     "name": "stdout",
     "output_type": "stream",
     "text": [
      "Requirement already satisfied: speechrecognition in c:\\users\\fariahh\\anaconda3\\lib\\site-packages (3.10.0)\n",
      "Requirement already satisfied: requests>=2.26.0 in c:\\users\\fariahh\\anaconda3\\lib\\site-packages (from speechrecognition) (2.27.1)\n",
      "Requirement already satisfied: urllib3<1.27,>=1.21.1 in c:\\users\\fariahh\\anaconda3\\lib\\site-packages (from requests>=2.26.0->speechrecognition) (1.26.9)\n",
      "Requirement already satisfied: charset-normalizer~=2.0.0 in c:\\users\\fariahh\\anaconda3\\lib\\site-packages (from requests>=2.26.0->speechrecognition) (2.0.4)\n",
      "Requirement already satisfied: certifi>=2017.4.17 in c:\\users\\fariahh\\anaconda3\\lib\\site-packages (from requests>=2.26.0->speechrecognition) (2021.10.8)\n",
      "Requirement already satisfied: idna<4,>=2.5 in c:\\users\\fariahh\\anaconda3\\lib\\site-packages (from requests>=2.26.0->speechrecognition) (3.3)\n",
      "Requirement already satisfied: pyttsx3 in c:\\users\\fariahh\\anaconda3\\lib\\site-packages (2.90)\n",
      "Requirement already satisfied: pypiwin32 in c:\\users\\fariahh\\anaconda3\\lib\\site-packages (from pyttsx3) (223)\n",
      "Requirement already satisfied: comtypes in c:\\users\\fariahh\\anaconda3\\lib\\site-packages (from pyttsx3) (1.1.10)\n",
      "Requirement already satisfied: pywin32 in c:\\users\\fariahh\\anaconda3\\lib\\site-packages (from pyttsx3) (302)\n",
      "Requirement already satisfied: pywhatkit in c:\\users\\fariahh\\anaconda3\\lib\\site-packages (5.4)\n",
      "Requirement already satisfied: wikipedia in c:\\users\\fariahh\\anaconda3\\lib\\site-packages (from pywhatkit) (1.4.0)\n",
      "Requirement already satisfied: requests in c:\\users\\fariahh\\anaconda3\\lib\\site-packages (from pywhatkit) (2.27.1)\n",
      "Requirement already satisfied: Pillow in c:\\users\\fariahh\\anaconda3\\lib\\site-packages (from pywhatkit) (9.0.1)\n",
      "Requirement already satisfied: pyautogui in c:\\users\\fariahh\\anaconda3\\lib\\site-packages (from pywhatkit) (0.9.53)\n",
      "Requirement already satisfied: Flask in c:\\users\\fariahh\\anaconda3\\lib\\site-packages (from pywhatkit) (1.1.2)\n",
      "Requirement already satisfied: itsdangerous>=0.24 in c:\\users\\fariahh\\anaconda3\\lib\\site-packages (from Flask->pywhatkit) (2.0.1)\n",
      "Requirement already satisfied: Werkzeug>=0.15 in c:\\users\\fariahh\\anaconda3\\lib\\site-packages (from Flask->pywhatkit) (2.0.3)\n",
      "Requirement already satisfied: Jinja2>=2.10.1 in c:\\users\\fariahh\\anaconda3\\lib\\site-packages (from Flask->pywhatkit) (2.11.3)\n",
      "Requirement already satisfied: click>=5.1 in c:\\users\\fariahh\\anaconda3\\lib\\site-packages (from Flask->pywhatkit) (8.0.4)\n",
      "Requirement already satisfied: colorama in c:\\users\\fariahh\\anaconda3\\lib\\site-packages (from click>=5.1->Flask->pywhatkit) (0.4.4)\n",
      "Requirement already satisfied: MarkupSafe>=0.23 in c:\\users\\fariahh\\anaconda3\\lib\\site-packages (from Jinja2>=2.10.1->Flask->pywhatkit) (2.0.1)\n",
      "Requirement already satisfied: pyscreeze>=0.1.21 in c:\\users\\fariahh\\anaconda3\\lib\\site-packages (from pyautogui->pywhatkit) (0.1.28)\n",
      "Requirement already satisfied: PyTweening>=1.0.1 in c:\\users\\fariahh\\anaconda3\\lib\\site-packages (from pyautogui->pywhatkit) (1.0.4)\n",
      "Requirement already satisfied: pymsgbox in c:\\users\\fariahh\\anaconda3\\lib\\site-packages (from pyautogui->pywhatkit) (1.0.9)\n",
      "Requirement already satisfied: pygetwindow>=0.0.5 in c:\\users\\fariahh\\anaconda3\\lib\\site-packages (from pyautogui->pywhatkit) (0.0.9)\n",
      "Requirement already satisfied: mouseinfo in c:\\users\\fariahh\\anaconda3\\lib\\site-packages (from pyautogui->pywhatkit) (0.1.3)\n",
      "Requirement already satisfied: pyrect in c:\\users\\fariahh\\anaconda3\\lib\\site-packages (from pygetwindow>=0.0.5->pyautogui->pywhatkit) (0.2.0)\n",
      "Requirement already satisfied: pyperclip in c:\\users\\fariahh\\anaconda3\\lib\\site-packages (from mouseinfo->pyautogui->pywhatkit) (1.8.2)\n",
      "Requirement already satisfied: idna<4,>=2.5 in c:\\users\\fariahh\\anaconda3\\lib\\site-packages (from requests->pywhatkit) (3.3)\n",
      "Requirement already satisfied: certifi>=2017.4.17 in c:\\users\\fariahh\\anaconda3\\lib\\site-packages (from requests->pywhatkit) (2021.10.8)\n",
      "Requirement already satisfied: urllib3<1.27,>=1.21.1 in c:\\users\\fariahh\\anaconda3\\lib\\site-packages (from requests->pywhatkit) (1.26.9)\n",
      "Requirement already satisfied: charset-normalizer~=2.0.0 in c:\\users\\fariahh\\anaconda3\\lib\\site-packages (from requests->pywhatkit) (2.0.4)\n",
      "Requirement already satisfied: beautifulsoup4 in c:\\users\\fariahh\\anaconda3\\lib\\site-packages (from wikipedia->pywhatkit) (4.11.1)\n",
      "Requirement already satisfied: soupsieve>1.2 in c:\\users\\fariahh\\anaconda3\\lib\\site-packages (from beautifulsoup4->wikipedia->pywhatkit) (2.3.1)\n",
      "Requirement already satisfied: wikipedia in c:\\users\\fariahh\\anaconda3\\lib\\site-packages (1.4.0)\n",
      "Requirement already satisfied: requests<3.0.0,>=2.0.0 in c:\\users\\fariahh\\anaconda3\\lib\\site-packages (from wikipedia) (2.27.1)\n",
      "Requirement already satisfied: beautifulsoup4 in c:\\users\\fariahh\\anaconda3\\lib\\site-packages (from wikipedia) (4.11.1)\n",
      "Requirement already satisfied: idna<4,>=2.5 in c:\\users\\fariahh\\anaconda3\\lib\\site-packages (from requests<3.0.0,>=2.0.0->wikipedia) (3.3)\n",
      "Requirement already satisfied: certifi>=2017.4.17 in c:\\users\\fariahh\\anaconda3\\lib\\site-packages (from requests<3.0.0,>=2.0.0->wikipedia) (2021.10.8)\n",
      "Requirement already satisfied: urllib3<1.27,>=1.21.1 in c:\\users\\fariahh\\anaconda3\\lib\\site-packages (from requests<3.0.0,>=2.0.0->wikipedia) (1.26.9)\n",
      "Requirement already satisfied: charset-normalizer~=2.0.0 in c:\\users\\fariahh\\anaconda3\\lib\\site-packages (from requests<3.0.0,>=2.0.0->wikipedia) (2.0.4)\n",
      "Requirement already satisfied: soupsieve>1.2 in c:\\users\\fariahh\\anaconda3\\lib\\site-packages (from beautifulsoup4->wikipedia) (2.3.1)\n",
      "Requirement already satisfied: pyjokes in c:\\users\\fariahh\\anaconda3\\lib\\site-packages (0.6.0)\n",
      "Requirement already satisfied: pyaudio in c:\\users\\fariahh\\anaconda3\\lib\\site-packages (0.2.13)\n"
     ]
    }
   ],
   "source": [
    "!pip install speechrecognition\n",
    "!pip install pyttsx3\n",
    "!pip install pywhatkit\n",
    "!pip install wikipedia\n",
    "!pip install pyjokes\n",
    "!pip install pyaudio"
   ]
  },
  {
   "cell_type": "code",
   "execution_count": 2,
   "id": "37b547ce",
   "metadata": {},
   "outputs": [],
   "source": [
    "import speech_recognition as sr\n",
    "import pyttsx3\n",
    "import pywhatkit\n",
    "import datetime\n",
    "import wikipedia\n",
    "import pyjokes\n",
    "import pyaudio"
   ]
  },
  {
   "cell_type": "code",
   "execution_count": 3,
   "id": "d18f0cf2",
   "metadata": {},
   "outputs": [],
   "source": [
    "listener = sr.Recognizer()\n",
    "engine = pyttsx3.init()\n",
    "voices = engine.getProperty('voices')\n",
    "engine.setProperty('voice', voices[1].id)"
   ]
  },
  {
   "cell_type": "code",
   "execution_count": 4,
   "id": "12b05a74",
   "metadata": {},
   "outputs": [],
   "source": [
    "def talk(text):\n",
    "    engine.say(text)\n",
    "    engine.runAndWait()"
   ]
  },
  {
   "cell_type": "code",
   "execution_count": 5,
   "id": "21315bc4",
   "metadata": {},
   "outputs": [],
   "source": [
    "def take_command():\n",
    "    try:\n",
    "        with sr.Microphone() as source:\n",
    "            print('Listening...')\n",
    "            voice = listener.listen(source)\n",
    "            command = listener.recognize_google(voice)\n",
    "            command = command.lower()\n",
    "            if 'alexa' in command:\n",
    "                command = command.replace('alexa', '')\n",
    "                print(command)\n",
    "            return command\n",
    "    except sr.UnknownValueError:\n",
    "        # Handle speech recognition errors when no speech is recognized\n",
    "        print('Sorry, I did not understand. Please repeat your command.')\n",
    "    except sr.RequestError:\n",
    "        # Handle speech recognition errors related to API requests\n",
    "        print('Sorry, there was an issue with the speech recognition service. Please try again later.')\n",
    "    except Exception as e:\n",
    "        # Handle any other exceptions that may occur\n",
    "        print(f'Sorry, an error occurred: {e}. Please try again.')\n",
    "    return ''\n"
   ]
  },
  {
   "cell_type": "code",
   "execution_count": 6,
   "id": "652e4934",
   "metadata": {},
   "outputs": [],
   "source": [
    "def run_alexa():\n",
    "    command = take_command()\n",
    "    print(command)\n",
    "    if 'play' in command:\n",
    "        song = command.replace('play', '')\n",
    "        talk('playing ' + song)\n",
    "        pywhatkit.playonyt(song)\n",
    "    elif 'time' in command:\n",
    "        time = datetime.datetime.now().strftime('%I:%M %p')\n",
    "        talk('Current time is ' + time)\n",
    "    elif 'who the heck is' in command:\n",
    "        person = command.replace('who the heck is', '')\n",
    "        info = wikipedia.summary(person, 1)\n",
    "        print(info)\n",
    "        talk(info)\n",
    "    elif 'date' in command:\n",
    "        talk('sorry, I have a headache')\n",
    "    elif 'are you single' in command:\n",
    "        talk('I am in a relationship with wifi')\n",
    "    elif 'joke' in command:\n",
    "        talk(pyjokes.get_joke())\n",
    "    else:\n",
    "        talk('Please repeat the command')\n"
   ]
  },
  {
   "cell_type": "code",
   "execution_count": null,
   "id": "61cf3414",
   "metadata": {},
   "outputs": [
    {
     "name": "stdout",
     "output_type": "stream",
     "text": [
      "Listening...\n"
     ]
    }
   ],
   "source": [
    "run_alexa()"
   ]
  },
  {
   "cell_type": "code",
   "execution_count": null,
   "id": "66143465",
   "metadata": {},
   "outputs": [],
   "source": []
  }
 ],
 "metadata": {
  "kernelspec": {
   "display_name": "Python 3 (ipykernel)",
   "language": "python",
   "name": "python3"
  },
  "language_info": {
   "codemirror_mode": {
    "name": "ipython",
    "version": 3
   },
   "file_extension": ".py",
   "mimetype": "text/x-python",
   "name": "python",
   "nbconvert_exporter": "python",
   "pygments_lexer": "ipython3",
   "version": "3.9.12"
  }
 },
 "nbformat": 4,
 "nbformat_minor": 5
}
